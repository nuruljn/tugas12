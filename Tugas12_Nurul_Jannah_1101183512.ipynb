{
  "nbformat": 4,
  "nbformat_minor": 0,
  "metadata": {
    "colab": {
      "name": "Tugas12_Nurul Jannah_1101183512.ipynb",
      "provenance": [],
      "include_colab_link": true
    },
    "kernelspec": {
      "name": "python3",
      "display_name": "Python 3"
    }
  },
  "cells": [
    {
      "cell_type": "markdown",
      "metadata": {
        "id": "view-in-github",
        "colab_type": "text"
      },
      "source": [
        "<a href=\"https://colab.research.google.com/github/nuruljn/tugas12/blob/main/Tugas12_Nurul_Jannah_1101183512.ipynb\" target=\"_parent\"><img src=\"https://colab.research.google.com/assets/colab-badge.svg\" alt=\"Open In Colab\"/></a>"
      ]
    },
    {
      "cell_type": "code",
      "metadata": {
        "id": "x68Kerskp5wm"
      },
      "source": [
        "import numpy as np"
      ],
      "execution_count": null,
      "outputs": []
    },
    {
      "cell_type": "code",
      "metadata": {
        "id": "pb_B5u1PqVc5"
      },
      "source": [
        "def c1(nilai_c1) :\r\n",
        "  if nilai_c1 in range(400,1500) :\r\n",
        "    return 69.55\r\n",
        "  elif nilai_c1 in range(1500,2000) :\r\n",
        "    return 46.3\r\n",
        "  else : return 0"
      ],
      "execution_count": null,
      "outputs": []
    },
    {
      "cell_type": "code",
      "metadata": {
        "id": "lblCkfqFqZe1"
      },
      "source": [
        "def c2(nilai_c2):\r\n",
        "  if nilai_c2 in range(400,1500):\r\n",
        "    return 26.16\r\n",
        "  elif nilai_c2 in range(1500,2000):\r\n",
        "    return 33.9\r\n",
        "  else: return 0"
      ],
      "execution_count": null,
      "outputs": []
    },
    {
      "cell_type": "code",
      "metadata": {
        "id": "dwwXECdUqcNl"
      },
      "source": [
        "def ahr(fc,hr):\r\n",
        "  x=(1.1*np.log10(fc)-0.7)*hr-(1.56*np.log10(fc)-0.8)\r\n",
        "  return x"
      ],
      "execution_count": null,
      "outputs": []
    },
    {
      "cell_type": "code",
      "metadata": {
        "id": "gqT-3hljqimx"
      },
      "source": [
        "sUrban = lambda x: -2*np.log10(x/28)*np.log10(x/28)-5.4"
      ],
      "execution_count": null,
      "outputs": []
    },
    {
      "cell_type": "code",
      "metadata": {
        "id": "e0LfhEzwqpRq"
      },
      "source": [
        "O = lambda x: -4.78*np.log10(x)*np.log10(x)+18.33*np.log10(x)-40.94"
      ],
      "execution_count": null,
      "outputs": []
    },
    {
      "cell_type": "code",
      "metadata": {
        "id": "1ul3ycj3qwRA"
      },
      "source": [
        "def Ptl(fc,hT,hr,d,Cm):\r\n",
        " \r\n",
        "  C1=c1(fc)\r\n",
        "  C2=c2(fc)\r\n",
        "  ahR=ahr(fc,hr)\r\n",
        "\r\n",
        "  Lp=C1+C2*np.log10(fc)-13.83*np.log10(hT)-ahR+(44.9-6.55*np.log10(hT))*np.log10(d)+Cm\r\n",
        "  print(Lp)\r\n",
        "  return Lp"
      ],
      "execution_count": null,
      "outputs": []
    },
    {
      "cell_type": "code",
      "metadata": {
        "colab": {
          "base_uri": "https://localhost:8080/"
        },
        "id": "TQON0v4dq6qa",
        "outputId": "97b74feb-8cef-4741-f859-a74259a2cddb"
      },
      "source": [
        "fc=int(input(\"Frekuensi (150 s.d 2000): \"))  \r\n",
        "hT=int(input(\"Tinggi Antena Pengirim (30 s.d 200): \"))   \r\n",
        "hr=int(input(\"Tinggi Antena Penerima (1 s.d 30): \"))\r\n",
        "d=int(input(\"Jarak : \"))    \r\n",
        "\r\n",
        "area=int(input(\"Masukkan Area (1=Urban || 2=Suburban || 3=Open) : \"))    \r\n",
        "\r\n",
        "\r\n",
        "if area==1:\r\n",
        "  Cm=0\r\n",
        "elif area==2:\r\n",
        "  Cm=sUrban(fc)\r\n",
        "elif area==3:\r\n",
        "  Cm=O(fc)\r\n",
        "else: print(\"Tidak Ada Pilihan\")\r\n",
        "\r\n",
        "Lp=Ptl(fc, hT, hr, d, Cm)\r\n",
        "print(\"Nilai Pathloss dalam dB =\", Lp,\"dB\")"
      ],
      "execution_count": null,
      "outputs": [
        {
          "output_type": "stream",
          "text": [
            "Frekuensi (150 s.d 2000): 150\n",
            "Tinggi Antena Pengirim (30 s.d 200): 40\n",
            "Tinggi Antena Penerima (1 s.d 30): 29\n",
            "Jarak : 20\n",
            "Masukkan Area (1=Urban || 2=Suburban || 3=Open) : 1\n",
            "-23.91520075289145\n",
            "Nilai Pathloss dalam dB = -23.91520075289145 dB\n"
          ],
          "name": "stdout"
        }
      ]
    },
    {
      "cell_type": "code",
      "metadata": {
        "id": "ZxbUEn2NVk7x"
      },
      "source": [
        ""
      ],
      "execution_count": null,
      "outputs": []
    }
  ]
}
